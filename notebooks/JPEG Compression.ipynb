{
 "cells": [
  {
   "cell_type": "markdown",
   "metadata": {},
   "source": [
    "### 1. Converting Parameters to JPEG"
   ]
  },
  {
   "cell_type": "code",
   "execution_count": null,
   "metadata": {
    "collapsed": true
   },
   "outputs": [],
   "source": [
    "from scipy.misc import imsave, toimage\n",
    "from os import listdir\n",
    "from os.path import basename, splitext\n",
    "import glob\n",
    "import numpy as np\n",
    "\n",
    "npy_path = '../compressed-models/alexnet/npy/'\n",
    "jpg_path = '../compressed-models/alexnet/jpegs/'\n",
    "gif_path = '../compressed-models/alexnet/gifs/'\n",
    "png_path = '../compressed-models/alexnet/pngs/'"
   ]
  },
  {
   "cell_type": "markdown",
   "metadata": {},
   "source": [
    "Load all npys and convert them to JPEG"
   ]
  },
  {
   "cell_type": "code",
   "execution_count": null,
   "metadata": {},
   "outputs": [],
   "source": [
    "npy_list = glob.glob(npy_path + '*.npy')\n",
    "min_max = {}\n",
    "\n",
    "for file in npy_list:\n",
    "    f = np.load(file)\n",
    "    x = f.shape[0]\n",
    "    y = np.prod(f.shape[1:])\n",
    "    f_reshape = f.reshape(x, y)\n",
    "    #f_normalized = np.round((f_reshape + 1) / 2. * 255.)    \n",
    "    filename = splitext(basename(file))[0]\n",
    "    #toimage(jpg_path + filename + '.jpg', f_resha)\n",
    "    min_max[filename] = (f_reshape.min(), f_reshape.max())\n",
    "    imsave(jpg_path + filename + '.jpg', f_reshape)\n",
    "    \n",
    "np.save(jpg_path + 'range.npy', min_max)\n"
   ]
  },
  {
   "cell_type": "markdown",
   "metadata": {},
   "source": [
    "Load all npys and convert them to GIF"
   ]
  },
  {
   "cell_type": "code",
   "execution_count": null,
   "metadata": {
    "collapsed": true
   },
   "outputs": [],
   "source": [
    "npy_list = glob.glob(npy_path + '*.npy')\n",
    "min_max = {}\n",
    "\n",
    "for file in npy_list:\n",
    "    f = np.load(file)\n",
    "    x = f.shape[0]\n",
    "    y = np.prod(f.shape[1:])\n",
    "    f_reshape = f.reshape(x, y)\n",
    "    #f_normalized = np.round((f_reshape + 1) / 2. * 255.)    \n",
    "    filename = splitext(basename(file))[0]\n",
    "    #toimage(jpg_path + filename + '.jpg', f_resha)\n",
    "    min_max[filename] = (f_reshape.min(), f_reshape.max())\n",
    "    imsave(gif_path + filename + '.gif', f_reshape)\n",
    "    \n",
    "np.save(gif_path + 'range.npy', min_max)\n"
   ]
  },
  {
   "cell_type": "markdown",
   "metadata": {},
   "source": [
    "Load all npys and convert them to PNG"
   ]
  },
  {
   "cell_type": "code",
   "execution_count": null,
   "metadata": {},
   "outputs": [],
   "source": [
    "npy_list = glob.glob(npy_path + '*.npy')\n",
    "min_max = {}\n",
    "\n",
    "for file in npy_list:\n",
    "    f = np.load(file)\n",
    "    x = f.shape[0]\n",
    "    y = np.prod(f.shape[1:])\n",
    "    f_reshape = f.reshape(x, y)\n",
    "    #f_normalized = np.round((f_reshape + 1) / 2. * 255.)    \n",
    "    filename = splitext(basename(file))[0]\n",
    "    #toimage(jpg_path + filename + '.jpg', f_resha)\n",
    "    min_max[filename] = (f_reshape.min(), f_reshape.max())\n",
    "    imsave(png_path + filename + '.png', f_reshape)\n",
    "    \n",
    "np.save(png_path + 'range.npy', min_max)\n"
   ]
  },
  {
   "cell_type": "markdown",
   "metadata": {},
   "source": [
    "### 2. Reference Sizes:\n",
    "\n",
    "conv1 (96, 3, 11, 11) (96,)  \n",
    "conv2 (256, 48, 5, 5) (256,)  \n",
    "conv3 (384, 256, 3, 3) (384,)  \n",
    "conv4 (384, 192, 3, 3) (384,)  \n",
    "conv5 (256, 192, 3, 3) (256,)  \n",
    "fc6\t(4096, 9216) (4096,)  \n",
    "fc7\t(4096, 4096) (4096,)  \n",
    "fc8\t(1000, 4096) (1000,)"
   ]
  },
  {
   "cell_type": "markdown",
   "metadata": {},
   "source": [
    "### 3. Sanity Check"
   ]
  },
  {
   "cell_type": "code",
   "execution_count": null,
   "metadata": {},
   "outputs": [],
   "source": [
    "from scipy.misc import imread\n",
    "\n",
    "f = imread(jpg_path + 'conv1.jpg')\n",
    "min_max = np.load('range.npy')\n",
    "#f_normalized = (f / 255. * 2.) - 1\n",
    "print f[0]\n",
    "print min_max\n",
    "\n"
   ]
  }
 ],
 "metadata": {
  "kernelspec": {
   "display_name": "Python 2",
   "language": "python",
   "name": "python2"
  },
  "language_info": {
   "codemirror_mode": {
    "name": "ipython",
    "version": 2
   },
   "file_extension": ".py",
   "mimetype": "text/x-python",
   "name": "python",
   "nbconvert_exporter": "python",
   "pygments_lexer": "ipython2",
   "version": "2.7.12"
  }
 },
 "nbformat": 4,
 "nbformat_minor": 2
}
